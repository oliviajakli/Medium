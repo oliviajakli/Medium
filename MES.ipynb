{
 "cells": [
  {
   "cell_type": "code",
   "execution_count": 1,
   "id": "d04bf283",
   "metadata": {},
   "outputs": [],
   "source": [
    "import pandas as pd\n",
    "%matplotlib inline\n",
    "import matplotlib.pyplot as plt\n",
    "import plotly.express as px\n",
    "from scipy import stats"
   ]
  },
  {
   "cell_type": "code",
   "execution_count": 2,
   "id": "831c2d86",
   "metadata": {},
   "outputs": [
    {
     "data": {
      "text/html": [
       "<div>\n",
       "<style scoped>\n",
       "    .dataframe tbody tr th:only-of-type {\n",
       "        vertical-align: middle;\n",
       "    }\n",
       "\n",
       "    .dataframe tbody tr th {\n",
       "        vertical-align: top;\n",
       "    }\n",
       "\n",
       "    .dataframe thead th {\n",
       "        text-align: right;\n",
       "    }\n",
       "</style>\n",
       "<table border=\"1\" class=\"dataframe\">\n",
       "  <thead>\n",
       "    <tr style=\"text-align: right;\">\n",
       "      <th></th>\n",
       "      <th>Country</th>\n",
       "      <th>Time</th>\n",
       "      <th>Balance</th>\n",
       "      <th>Product</th>\n",
       "      <th>Value</th>\n",
       "      <th>Unit</th>\n",
       "    </tr>\n",
       "  </thead>\n",
       "  <tbody>\n",
       "    <tr>\n",
       "      <th>0</th>\n",
       "      <td>Australia</td>\n",
       "      <td>April 2025</td>\n",
       "      <td>Net Electricity Production</td>\n",
       "      <td>Electricity</td>\n",
       "      <td>21041.0542</td>\n",
       "      <td>GWh</td>\n",
       "    </tr>\n",
       "    <tr>\n",
       "      <th>1</th>\n",
       "      <td>Australia</td>\n",
       "      <td>April 2025</td>\n",
       "      <td>Net Electricity Production</td>\n",
       "      <td>Hydro</td>\n",
       "      <td>982.4615</td>\n",
       "      <td>GWh</td>\n",
       "    </tr>\n",
       "    <tr>\n",
       "      <th>2</th>\n",
       "      <td>Australia</td>\n",
       "      <td>April 2025</td>\n",
       "      <td>Net Electricity Production</td>\n",
       "      <td>Total Combustible Fuels</td>\n",
       "      <td>13110.0606</td>\n",
       "      <td>GWh</td>\n",
       "    </tr>\n",
       "    <tr>\n",
       "      <th>3</th>\n",
       "      <td>Australia</td>\n",
       "      <td>April 2025</td>\n",
       "      <td>Net Electricity Production</td>\n",
       "      <td>Coal, Peat and Manufactured Gases</td>\n",
       "      <td>9405.6027</td>\n",
       "      <td>GWh</td>\n",
       "    </tr>\n",
       "    <tr>\n",
       "      <th>4</th>\n",
       "      <td>Australia</td>\n",
       "      <td>April 2025</td>\n",
       "      <td>Net Electricity Production</td>\n",
       "      <td>Oil and Petroleum Products</td>\n",
       "      <td>317.1276</td>\n",
       "      <td>GWh</td>\n",
       "    </tr>\n",
       "  </tbody>\n",
       "</table>\n",
       "</div>"
      ],
      "text/plain": [
       "     Country        Time                     Balance  \\\n",
       "0  Australia  April 2025  Net Electricity Production   \n",
       "1  Australia  April 2025  Net Electricity Production   \n",
       "2  Australia  April 2025  Net Electricity Production   \n",
       "3  Australia  April 2025  Net Electricity Production   \n",
       "4  Australia  April 2025  Net Electricity Production   \n",
       "\n",
       "                             Product       Value Unit  \n",
       "0                        Electricity  21041.0542  GWh  \n",
       "1                              Hydro    982.4615  GWh  \n",
       "2            Total Combustible Fuels  13110.0606  GWh  \n",
       "3  Coal, Peat and Manufactured Gases   9405.6027  GWh  \n",
       "4         Oil and Petroleum Products    317.1276  GWh  "
      ]
     },
     "execution_count": 2,
     "metadata": {},
     "output_type": "execute_result"
    }
   ],
   "source": [
    "df = pd.read_csv('MES_0425.csv', skiprows=8, encoding='cp1252')\n",
    "df.head()"
   ]
  },
  {
   "cell_type": "code",
   "execution_count": 15,
   "id": "cd059c0c",
   "metadata": {},
   "outputs": [
    {
     "data": {
      "text/html": [
       "<div>\n",
       "<style scoped>\n",
       "    .dataframe tbody tr th:only-of-type {\n",
       "        vertical-align: middle;\n",
       "    }\n",
       "\n",
       "    .dataframe tbody tr th {\n",
       "        vertical-align: top;\n",
       "    }\n",
       "\n",
       "    .dataframe thead th {\n",
       "        text-align: right;\n",
       "    }\n",
       "</style>\n",
       "<table border=\"1\" class=\"dataframe\">\n",
       "  <thead>\n",
       "    <tr style=\"text-align: right;\">\n",
       "      <th></th>\n",
       "      <th>Country</th>\n",
       "      <th>Time</th>\n",
       "      <th>Balance</th>\n",
       "      <th>Product</th>\n",
       "      <th>Value</th>\n",
       "      <th>Unit</th>\n",
       "    </tr>\n",
       "  </thead>\n",
       "  <tbody>\n",
       "    <tr>\n",
       "      <th>11515</th>\n",
       "      <td>Czech Republic</td>\n",
       "      <td>February 2024</td>\n",
       "      <td>Net Electricity Production</td>\n",
       "      <td>Total Combustible Fuels</td>\n",
       "      <td>2893.6294</td>\n",
       "      <td>GWh</td>\n",
       "    </tr>\n",
       "    <tr>\n",
       "      <th>130859</th>\n",
       "      <td>United States</td>\n",
       "      <td>July 2012</td>\n",
       "      <td>Net Electricity Production</td>\n",
       "      <td>Wind</td>\n",
       "      <td>8769.5550</td>\n",
       "      <td>GWh</td>\n",
       "    </tr>\n",
       "    <tr>\n",
       "      <th>2587</th>\n",
       "      <td>Estonia</td>\n",
       "      <td>January 2025</td>\n",
       "      <td>Net Electricity Production</td>\n",
       "      <td>Electricity</td>\n",
       "      <td>513.8015</td>\n",
       "      <td>GWh</td>\n",
       "    </tr>\n",
       "    <tr>\n",
       "      <th>62944</th>\n",
       "      <td>Slovak Republic</td>\n",
       "      <td>June 2019</td>\n",
       "      <td>Net Electricity Production</td>\n",
       "      <td>Other Combustible Non-Renewables</td>\n",
       "      <td>2.3267</td>\n",
       "      <td>GWh</td>\n",
       "    </tr>\n",
       "    <tr>\n",
       "      <th>83746</th>\n",
       "      <td>Lithuania</td>\n",
       "      <td>August 2017</td>\n",
       "      <td>Net Electricity Production</td>\n",
       "      <td>Hydro</td>\n",
       "      <td>95.1998</td>\n",
       "      <td>GWh</td>\n",
       "    </tr>\n",
       "    <tr>\n",
       "      <th>98442</th>\n",
       "      <td>Denmark</td>\n",
       "      <td>February 2016</td>\n",
       "      <td>Final Consumption (Calculated)</td>\n",
       "      <td>Electricity</td>\n",
       "      <td>2837.1210</td>\n",
       "      <td>GWh</td>\n",
       "    </tr>\n",
       "    <tr>\n",
       "      <th>98749</th>\n",
       "      <td>Poland</td>\n",
       "      <td>February 2016</td>\n",
       "      <td>Total Imports</td>\n",
       "      <td>Electricity</td>\n",
       "      <td>1388.0000</td>\n",
       "      <td>GWh</td>\n",
       "    </tr>\n",
       "    <tr>\n",
       "      <th>138094</th>\n",
       "      <td>Ireland</td>\n",
       "      <td>August 2011</td>\n",
       "      <td>Net Electricity Production</td>\n",
       "      <td>Hydro</td>\n",
       "      <td>15.5710</td>\n",
       "      <td>GWh</td>\n",
       "    </tr>\n",
       "    <tr>\n",
       "      <th>20857</th>\n",
       "      <td>Slovak Republic</td>\n",
       "      <td>March 2023</td>\n",
       "      <td>Total Imports</td>\n",
       "      <td>Electricity</td>\n",
       "      <td>832.0781</td>\n",
       "      <td>GWh</td>\n",
       "    </tr>\n",
       "    <tr>\n",
       "      <th>54308</th>\n",
       "      <td>OECD Total</td>\n",
       "      <td>March 2020</td>\n",
       "      <td>Final Consumption (Calculated)</td>\n",
       "      <td>Electricity</td>\n",
       "      <td>807197.6644</td>\n",
       "      <td>GWh</td>\n",
       "    </tr>\n",
       "    <tr>\n",
       "      <th>34685</th>\n",
       "      <td>Australia</td>\n",
       "      <td>October 2021</td>\n",
       "      <td>Net Electricity Production</td>\n",
       "      <td>Not Specified</td>\n",
       "      <td>0.0000</td>\n",
       "      <td>GWh</td>\n",
       "    </tr>\n",
       "    <tr>\n",
       "      <th>65162</th>\n",
       "      <td>IEA Total</td>\n",
       "      <td>April 2019</td>\n",
       "      <td>Distribution Losses</td>\n",
       "      <td>Electricity</td>\n",
       "      <td>47983.2477</td>\n",
       "      <td>GWh</td>\n",
       "    </tr>\n",
       "    <tr>\n",
       "      <th>86063</th>\n",
       "      <td>Finland</td>\n",
       "      <td>May 2017</td>\n",
       "      <td>Total Exports</td>\n",
       "      <td>Electricity</td>\n",
       "      <td>108.1216</td>\n",
       "      <td>GWh</td>\n",
       "    </tr>\n",
       "    <tr>\n",
       "      <th>31965</th>\n",
       "      <td>Czech Republic</td>\n",
       "      <td>January 2022</td>\n",
       "      <td>Net Electricity Production</td>\n",
       "      <td>Solar</td>\n",
       "      <td>68.1976</td>\n",
       "      <td>GWh</td>\n",
       "    </tr>\n",
       "    <tr>\n",
       "      <th>101662</th>\n",
       "      <td>Belgium</td>\n",
       "      <td>October 2015</td>\n",
       "      <td>Net Electricity Production</td>\n",
       "      <td>Hydro</td>\n",
       "      <td>112.2440</td>\n",
       "      <td>GWh</td>\n",
       "    </tr>\n",
       "    <tr>\n",
       "      <th>100786</th>\n",
       "      <td>Serbia</td>\n",
       "      <td>December 2015</td>\n",
       "      <td>Net Electricity Production</td>\n",
       "      <td>Electricity</td>\n",
       "      <td>3498.6880</td>\n",
       "      <td>GWh</td>\n",
       "    </tr>\n",
       "    <tr>\n",
       "      <th>119935</th>\n",
       "      <td>Denmark</td>\n",
       "      <td>October 2013</td>\n",
       "      <td>Net Electricity Production</td>\n",
       "      <td>Solar</td>\n",
       "      <td>25.4170</td>\n",
       "      <td>GWh</td>\n",
       "    </tr>\n",
       "    <tr>\n",
       "      <th>92884</th>\n",
       "      <td>Mexico</td>\n",
       "      <td>September 2016</td>\n",
       "      <td>Net Electricity Production</td>\n",
       "      <td>Electricity</td>\n",
       "      <td>26378.1557</td>\n",
       "      <td>GWh</td>\n",
       "    </tr>\n",
       "    <tr>\n",
       "      <th>30356</th>\n",
       "      <td>Finland</td>\n",
       "      <td>March 2022</td>\n",
       "      <td>Net Electricity Production</td>\n",
       "      <td>Coal, Peat and Manufactured Gases</td>\n",
       "      <td>597.9154</td>\n",
       "      <td>GWh</td>\n",
       "    </tr>\n",
       "    <tr>\n",
       "      <th>39316</th>\n",
       "      <td>Switzerland</td>\n",
       "      <td>June 2021</td>\n",
       "      <td>Net Electricity Production</td>\n",
       "      <td>Hydro</td>\n",
       "      <td>4832.9886</td>\n",
       "      <td>GWh</td>\n",
       "    </tr>\n",
       "  </tbody>\n",
       "</table>\n",
       "</div>"
      ],
      "text/plain": [
       "                Country            Time                         Balance  \\\n",
       "11515    Czech Republic   February 2024      Net Electricity Production   \n",
       "130859    United States       July 2012      Net Electricity Production   \n",
       "2587            Estonia    January 2025      Net Electricity Production   \n",
       "62944   Slovak Republic       June 2019      Net Electricity Production   \n",
       "83746         Lithuania     August 2017      Net Electricity Production   \n",
       "98442           Denmark   February 2016  Final Consumption (Calculated)   \n",
       "98749            Poland   February 2016                   Total Imports   \n",
       "138094          Ireland     August 2011      Net Electricity Production   \n",
       "20857   Slovak Republic      March 2023                   Total Imports   \n",
       "54308        OECD Total      March 2020  Final Consumption (Calculated)   \n",
       "34685         Australia    October 2021      Net Electricity Production   \n",
       "65162         IEA Total      April 2019             Distribution Losses   \n",
       "86063           Finland        May 2017                   Total Exports   \n",
       "31965    Czech Republic    January 2022      Net Electricity Production   \n",
       "101662          Belgium    October 2015      Net Electricity Production   \n",
       "100786           Serbia   December 2015      Net Electricity Production   \n",
       "119935          Denmark    October 2013      Net Electricity Production   \n",
       "92884            Mexico  September 2016      Net Electricity Production   \n",
       "30356           Finland      March 2022      Net Electricity Production   \n",
       "39316       Switzerland       June 2021      Net Electricity Production   \n",
       "\n",
       "                                  Product        Value Unit  \n",
       "11515             Total Combustible Fuels    2893.6294  GWh  \n",
       "130859                               Wind    8769.5550  GWh  \n",
       "2587                          Electricity     513.8015  GWh  \n",
       "62944    Other Combustible Non-Renewables       2.3267  GWh  \n",
       "83746                               Hydro      95.1998  GWh  \n",
       "98442                         Electricity    2837.1210  GWh  \n",
       "98749                         Electricity    1388.0000  GWh  \n",
       "138094                              Hydro      15.5710  GWh  \n",
       "20857                         Electricity     832.0781  GWh  \n",
       "54308                         Electricity  807197.6644  GWh  \n",
       "34685                       Not Specified       0.0000  GWh  \n",
       "65162                         Electricity   47983.2477  GWh  \n",
       "86063                         Electricity     108.1216  GWh  \n",
       "31965                               Solar      68.1976  GWh  \n",
       "101662                              Hydro     112.2440  GWh  \n",
       "100786                        Electricity    3498.6880  GWh  \n",
       "119935                              Solar      25.4170  GWh  \n",
       "92884                         Electricity   26378.1557  GWh  \n",
       "30356   Coal, Peat and Manufactured Gases     597.9154  GWh  \n",
       "39316                               Hydro    4832.9886  GWh  "
      ]
     },
     "execution_count": 15,
     "metadata": {},
     "output_type": "execute_result"
    }
   ],
   "source": [
    "df.sample(20)"
   ]
  },
  {
   "cell_type": "code",
   "execution_count": 16,
   "id": "3c861b00",
   "metadata": {},
   "outputs": [
    {
     "name": "stdout",
     "output_type": "stream",
     "text": [
      "<class 'pandas.core.frame.DataFrame'>\n",
      "RangeIndex: 151656 entries, 0 to 151655\n",
      "Data columns (total 6 columns):\n",
      " #   Column   Non-Null Count   Dtype  \n",
      "---  ------   --------------   -----  \n",
      " 0   Country  151656 non-null  object \n",
      " 1   Time     151656 non-null  object \n",
      " 2   Balance  151656 non-null  object \n",
      " 3   Product  151656 non-null  object \n",
      " 4   Value    151616 non-null  float64\n",
      " 5   Unit     151656 non-null  object \n",
      "dtypes: float64(1), object(5)\n",
      "memory usage: 6.9+ MB\n"
     ]
    }
   ],
   "source": [
    "df.info()"
   ]
  },
  {
   "cell_type": "code",
   "execution_count": 17,
   "id": "7f686d9f",
   "metadata": {},
   "outputs": [
    {
     "data": {
      "text/plain": [
       "Country     0\n",
       "Time        0\n",
       "Balance     0\n",
       "Product     0\n",
       "Value      40\n",
       "Unit        0\n",
       "dtype: int64"
      ]
     },
     "execution_count": 17,
     "metadata": {},
     "output_type": "execute_result"
    }
   ],
   "source": [
    "df.isna().sum()"
   ]
  },
  {
   "cell_type": "code",
   "execution_count": 18,
   "id": "a778910a",
   "metadata": {},
   "outputs": [
    {
     "data": {
      "text/html": [
       "<div>\n",
       "<style scoped>\n",
       "    .dataframe tbody tr th:only-of-type {\n",
       "        vertical-align: middle;\n",
       "    }\n",
       "\n",
       "    .dataframe tbody tr th {\n",
       "        vertical-align: top;\n",
       "    }\n",
       "\n",
       "    .dataframe thead th {\n",
       "        text-align: right;\n",
       "    }\n",
       "</style>\n",
       "<table border=\"1\" class=\"dataframe\">\n",
       "  <thead>\n",
       "    <tr style=\"text-align: right;\">\n",
       "      <th></th>\n",
       "      <th>Country</th>\n",
       "      <th>Time</th>\n",
       "      <th>Balance</th>\n",
       "      <th>Product</th>\n",
       "      <th>Value</th>\n",
       "      <th>Unit</th>\n",
       "    </tr>\n",
       "  </thead>\n",
       "  <tbody>\n",
       "    <tr>\n",
       "      <th>80</th>\n",
       "      <td>Colombia</td>\n",
       "      <td>April 2025</td>\n",
       "      <td>Remarks</td>\n",
       "      <td>Data is estimated for this month</td>\n",
       "      <td>NaN</td>\n",
       "      <td>GWh</td>\n",
       "    </tr>\n",
       "    <tr>\n",
       "      <th>95</th>\n",
       "      <td>Costa Rica</td>\n",
       "      <td>April 2025</td>\n",
       "      <td>Remarks</td>\n",
       "      <td>Data is estimated for this month</td>\n",
       "      <td>NaN</td>\n",
       "      <td>GWh</td>\n",
       "    </tr>\n",
       "    <tr>\n",
       "      <th>244</th>\n",
       "      <td>Iceland</td>\n",
       "      <td>April 2025</td>\n",
       "      <td>Remarks</td>\n",
       "      <td>Data is estimated for this month</td>\n",
       "      <td>NaN</td>\n",
       "      <td>GWh</td>\n",
       "    </tr>\n",
       "    <tr>\n",
       "      <th>288</th>\n",
       "      <td>Japan</td>\n",
       "      <td>April 2025</td>\n",
       "      <td>Remarks</td>\n",
       "      <td>Data is estimated for this month</td>\n",
       "      <td>NaN</td>\n",
       "      <td>GWh</td>\n",
       "    </tr>\n",
       "    <tr>\n",
       "      <th>699</th>\n",
       "      <td>Argentina</td>\n",
       "      <td>April 2025</td>\n",
       "      <td>Remarks</td>\n",
       "      <td>Data is estimated for this month</td>\n",
       "      <td>NaN</td>\n",
       "      <td>GWh</td>\n",
       "    </tr>\n",
       "    <tr>\n",
       "      <th>896</th>\n",
       "      <td>Colombia</td>\n",
       "      <td>March 2025</td>\n",
       "      <td>Remarks</td>\n",
       "      <td>Data is estimated for this month</td>\n",
       "      <td>NaN</td>\n",
       "      <td>GWh</td>\n",
       "    </tr>\n",
       "    <tr>\n",
       "      <th>911</th>\n",
       "      <td>Costa Rica</td>\n",
       "      <td>March 2025</td>\n",
       "      <td>Remarks</td>\n",
       "      <td>Data is estimated for this month</td>\n",
       "      <td>NaN</td>\n",
       "      <td>GWh</td>\n",
       "    </tr>\n",
       "    <tr>\n",
       "      <th>1060</th>\n",
       "      <td>Iceland</td>\n",
       "      <td>March 2025</td>\n",
       "      <td>Remarks</td>\n",
       "      <td>Data is estimated for this month</td>\n",
       "      <td>NaN</td>\n",
       "      <td>GWh</td>\n",
       "    </tr>\n",
       "    <tr>\n",
       "      <th>1599</th>\n",
       "      <td>Montenegro</td>\n",
       "      <td>March 2025</td>\n",
       "      <td>Remarks</td>\n",
       "      <td>Data is estimated for this month</td>\n",
       "      <td>NaN</td>\n",
       "      <td>GWh</td>\n",
       "    </tr>\n",
       "    <tr>\n",
       "      <th>1600</th>\n",
       "      <td>North Macedonia</td>\n",
       "      <td>March 2025</td>\n",
       "      <td>Remarks</td>\n",
       "      <td>Data is estimated for this month</td>\n",
       "      <td>NaN</td>\n",
       "      <td>GWh</td>\n",
       "    </tr>\n",
       "    <tr>\n",
       "      <th>1727</th>\n",
       "      <td>Costa Rica</td>\n",
       "      <td>February 2025</td>\n",
       "      <td>Remarks</td>\n",
       "      <td>Data is estimated for this month</td>\n",
       "      <td>NaN</td>\n",
       "      <td>GWh</td>\n",
       "    </tr>\n",
       "    <tr>\n",
       "      <th>1876</th>\n",
       "      <td>Iceland</td>\n",
       "      <td>February 2025</td>\n",
       "      <td>Remarks</td>\n",
       "      <td>Data is estimated for this month</td>\n",
       "      <td>NaN</td>\n",
       "      <td>GWh</td>\n",
       "    </tr>\n",
       "    <tr>\n",
       "      <th>2540</th>\n",
       "      <td>Costa Rica</td>\n",
       "      <td>January 2025</td>\n",
       "      <td>Remarks</td>\n",
       "      <td>Data is estimated for this month</td>\n",
       "      <td>NaN</td>\n",
       "      <td>GWh</td>\n",
       "    </tr>\n",
       "    <tr>\n",
       "      <th>2689</th>\n",
       "      <td>Iceland</td>\n",
       "      <td>January 2025</td>\n",
       "      <td>Remarks</td>\n",
       "      <td>Data is estimated for this month</td>\n",
       "      <td>NaN</td>\n",
       "      <td>GWh</td>\n",
       "    </tr>\n",
       "    <tr>\n",
       "      <th>3352</th>\n",
       "      <td>Costa Rica</td>\n",
       "      <td>December 2024</td>\n",
       "      <td>Remarks</td>\n",
       "      <td>Data is estimated for this month</td>\n",
       "      <td>NaN</td>\n",
       "      <td>GWh</td>\n",
       "    </tr>\n",
       "    <tr>\n",
       "      <th>3500</th>\n",
       "      <td>Iceland</td>\n",
       "      <td>December 2024</td>\n",
       "      <td>Remarks</td>\n",
       "      <td>Data is estimated for this month</td>\n",
       "      <td>NaN</td>\n",
       "      <td>GWh</td>\n",
       "    </tr>\n",
       "    <tr>\n",
       "      <th>4166</th>\n",
       "      <td>Costa Rica</td>\n",
       "      <td>November 2024</td>\n",
       "      <td>Remarks</td>\n",
       "      <td>Data is estimated for this month</td>\n",
       "      <td>NaN</td>\n",
       "      <td>GWh</td>\n",
       "    </tr>\n",
       "    <tr>\n",
       "      <th>4314</th>\n",
       "      <td>Iceland</td>\n",
       "      <td>November 2024</td>\n",
       "      <td>Remarks</td>\n",
       "      <td>Data is estimated for this month</td>\n",
       "      <td>NaN</td>\n",
       "      <td>GWh</td>\n",
       "    </tr>\n",
       "    <tr>\n",
       "      <th>4981</th>\n",
       "      <td>Costa Rica</td>\n",
       "      <td>October 2024</td>\n",
       "      <td>Remarks</td>\n",
       "      <td>Data is estimated for this month</td>\n",
       "      <td>NaN</td>\n",
       "      <td>GWh</td>\n",
       "    </tr>\n",
       "    <tr>\n",
       "      <th>5795</th>\n",
       "      <td>Costa Rica</td>\n",
       "      <td>September 2024</td>\n",
       "      <td>Remarks</td>\n",
       "      <td>Data is estimated for this month</td>\n",
       "      <td>NaN</td>\n",
       "      <td>GWh</td>\n",
       "    </tr>\n",
       "    <tr>\n",
       "      <th>6611</th>\n",
       "      <td>Costa Rica</td>\n",
       "      <td>August 2024</td>\n",
       "      <td>Remarks</td>\n",
       "      <td>Data is estimated for this month</td>\n",
       "      <td>NaN</td>\n",
       "      <td>GWh</td>\n",
       "    </tr>\n",
       "    <tr>\n",
       "      <th>7426</th>\n",
       "      <td>Costa Rica</td>\n",
       "      <td>July 2024</td>\n",
       "      <td>Remarks</td>\n",
       "      <td>Data is estimated for this month</td>\n",
       "      <td>NaN</td>\n",
       "      <td>GWh</td>\n",
       "    </tr>\n",
       "    <tr>\n",
       "      <th>8241</th>\n",
       "      <td>Costa Rica</td>\n",
       "      <td>June 2024</td>\n",
       "      <td>Remarks</td>\n",
       "      <td>Data is estimated for this month</td>\n",
       "      <td>NaN</td>\n",
       "      <td>GWh</td>\n",
       "    </tr>\n",
       "    <tr>\n",
       "      <th>9054</th>\n",
       "      <td>Costa Rica</td>\n",
       "      <td>May 2024</td>\n",
       "      <td>Remarks</td>\n",
       "      <td>Data is estimated for this month</td>\n",
       "      <td>NaN</td>\n",
       "      <td>GWh</td>\n",
       "    </tr>\n",
       "    <tr>\n",
       "      <th>9867</th>\n",
       "      <td>Costa Rica</td>\n",
       "      <td>April 2024</td>\n",
       "      <td>Remarks</td>\n",
       "      <td>Data is estimated for this month</td>\n",
       "      <td>NaN</td>\n",
       "      <td>GWh</td>\n",
       "    </tr>\n",
       "    <tr>\n",
       "      <th>10684</th>\n",
       "      <td>Costa Rica</td>\n",
       "      <td>March 2024</td>\n",
       "      <td>Remarks</td>\n",
       "      <td>Data is estimated for this month</td>\n",
       "      <td>NaN</td>\n",
       "      <td>GWh</td>\n",
       "    </tr>\n",
       "    <tr>\n",
       "      <th>11498</th>\n",
       "      <td>Costa Rica</td>\n",
       "      <td>February 2024</td>\n",
       "      <td>Remarks</td>\n",
       "      <td>Data is estimated for this month</td>\n",
       "      <td>NaN</td>\n",
       "      <td>GWh</td>\n",
       "    </tr>\n",
       "    <tr>\n",
       "      <th>12310</th>\n",
       "      <td>Costa Rica</td>\n",
       "      <td>January 2024</td>\n",
       "      <td>Remarks</td>\n",
       "      <td>Data is estimated for this month</td>\n",
       "      <td>NaN</td>\n",
       "      <td>GWh</td>\n",
       "    </tr>\n",
       "    <tr>\n",
       "      <th>13124</th>\n",
       "      <td>Costa Rica</td>\n",
       "      <td>December 2023</td>\n",
       "      <td>Remarks</td>\n",
       "      <td>Data is estimated for this month</td>\n",
       "      <td>NaN</td>\n",
       "      <td>GWh</td>\n",
       "    </tr>\n",
       "    <tr>\n",
       "      <th>13937</th>\n",
       "      <td>Costa Rica</td>\n",
       "      <td>November 2023</td>\n",
       "      <td>Remarks</td>\n",
       "      <td>Data is estimated for this month</td>\n",
       "      <td>NaN</td>\n",
       "      <td>GWh</td>\n",
       "    </tr>\n",
       "    <tr>\n",
       "      <th>14754</th>\n",
       "      <td>Costa Rica</td>\n",
       "      <td>October 2023</td>\n",
       "      <td>Remarks</td>\n",
       "      <td>Data is estimated for this month</td>\n",
       "      <td>NaN</td>\n",
       "      <td>GWh</td>\n",
       "    </tr>\n",
       "    <tr>\n",
       "      <th>15571</th>\n",
       "      <td>Costa Rica</td>\n",
       "      <td>September 2023</td>\n",
       "      <td>Remarks</td>\n",
       "      <td>Data is estimated for this month</td>\n",
       "      <td>NaN</td>\n",
       "      <td>GWh</td>\n",
       "    </tr>\n",
       "    <tr>\n",
       "      <th>16387</th>\n",
       "      <td>Costa Rica</td>\n",
       "      <td>August 2023</td>\n",
       "      <td>Remarks</td>\n",
       "      <td>Data is estimated for this month</td>\n",
       "      <td>NaN</td>\n",
       "      <td>GWh</td>\n",
       "    </tr>\n",
       "    <tr>\n",
       "      <th>17204</th>\n",
       "      <td>Costa Rica</td>\n",
       "      <td>July 2023</td>\n",
       "      <td>Remarks</td>\n",
       "      <td>Data is estimated for this month</td>\n",
       "      <td>NaN</td>\n",
       "      <td>GWh</td>\n",
       "    </tr>\n",
       "    <tr>\n",
       "      <th>18022</th>\n",
       "      <td>Costa Rica</td>\n",
       "      <td>June 2023</td>\n",
       "      <td>Remarks</td>\n",
       "      <td>Data is estimated for this month</td>\n",
       "      <td>NaN</td>\n",
       "      <td>GWh</td>\n",
       "    </tr>\n",
       "    <tr>\n",
       "      <th>18839</th>\n",
       "      <td>Costa Rica</td>\n",
       "      <td>May 2023</td>\n",
       "      <td>Remarks</td>\n",
       "      <td>Data is estimated for this month</td>\n",
       "      <td>NaN</td>\n",
       "      <td>GWh</td>\n",
       "    </tr>\n",
       "    <tr>\n",
       "      <th>19656</th>\n",
       "      <td>Costa Rica</td>\n",
       "      <td>April 2023</td>\n",
       "      <td>Remarks</td>\n",
       "      <td>Data is estimated for this month</td>\n",
       "      <td>NaN</td>\n",
       "      <td>GWh</td>\n",
       "    </tr>\n",
       "    <tr>\n",
       "      <th>20476</th>\n",
       "      <td>Costa Rica</td>\n",
       "      <td>March 2023</td>\n",
       "      <td>Remarks</td>\n",
       "      <td>Data is estimated for this month</td>\n",
       "      <td>NaN</td>\n",
       "      <td>GWh</td>\n",
       "    </tr>\n",
       "    <tr>\n",
       "      <th>21295</th>\n",
       "      <td>Costa Rica</td>\n",
       "      <td>February 2023</td>\n",
       "      <td>Remarks</td>\n",
       "      <td>Data is estimated for this month</td>\n",
       "      <td>NaN</td>\n",
       "      <td>GWh</td>\n",
       "    </tr>\n",
       "    <tr>\n",
       "      <th>22114</th>\n",
       "      <td>Costa Rica</td>\n",
       "      <td>January 2023</td>\n",
       "      <td>Remarks</td>\n",
       "      <td>Data is estimated for this month</td>\n",
       "      <td>NaN</td>\n",
       "      <td>GWh</td>\n",
       "    </tr>\n",
       "  </tbody>\n",
       "</table>\n",
       "</div>"
      ],
      "text/plain": [
       "               Country            Time  Balance  \\\n",
       "80            Colombia      April 2025  Remarks   \n",
       "95          Costa Rica      April 2025  Remarks   \n",
       "244            Iceland      April 2025  Remarks   \n",
       "288              Japan      April 2025  Remarks   \n",
       "699          Argentina      April 2025  Remarks   \n",
       "896           Colombia      March 2025  Remarks   \n",
       "911         Costa Rica      March 2025  Remarks   \n",
       "1060           Iceland      March 2025  Remarks   \n",
       "1599        Montenegro      March 2025  Remarks   \n",
       "1600   North Macedonia      March 2025  Remarks   \n",
       "1727        Costa Rica   February 2025  Remarks   \n",
       "1876           Iceland   February 2025  Remarks   \n",
       "2540        Costa Rica    January 2025  Remarks   \n",
       "2689           Iceland    January 2025  Remarks   \n",
       "3352        Costa Rica   December 2024  Remarks   \n",
       "3500           Iceland   December 2024  Remarks   \n",
       "4166        Costa Rica   November 2024  Remarks   \n",
       "4314           Iceland   November 2024  Remarks   \n",
       "4981        Costa Rica    October 2024  Remarks   \n",
       "5795        Costa Rica  September 2024  Remarks   \n",
       "6611        Costa Rica     August 2024  Remarks   \n",
       "7426        Costa Rica       July 2024  Remarks   \n",
       "8241        Costa Rica       June 2024  Remarks   \n",
       "9054        Costa Rica        May 2024  Remarks   \n",
       "9867        Costa Rica      April 2024  Remarks   \n",
       "10684       Costa Rica      March 2024  Remarks   \n",
       "11498       Costa Rica   February 2024  Remarks   \n",
       "12310       Costa Rica    January 2024  Remarks   \n",
       "13124       Costa Rica   December 2023  Remarks   \n",
       "13937       Costa Rica   November 2023  Remarks   \n",
       "14754       Costa Rica    October 2023  Remarks   \n",
       "15571       Costa Rica  September 2023  Remarks   \n",
       "16387       Costa Rica     August 2023  Remarks   \n",
       "17204       Costa Rica       July 2023  Remarks   \n",
       "18022       Costa Rica       June 2023  Remarks   \n",
       "18839       Costa Rica        May 2023  Remarks   \n",
       "19656       Costa Rica      April 2023  Remarks   \n",
       "20476       Costa Rica      March 2023  Remarks   \n",
       "21295       Costa Rica   February 2023  Remarks   \n",
       "22114       Costa Rica    January 2023  Remarks   \n",
       "\n",
       "                                Product  Value Unit  \n",
       "80     Data is estimated for this month    NaN  GWh  \n",
       "95     Data is estimated for this month    NaN  GWh  \n",
       "244    Data is estimated for this month    NaN  GWh  \n",
       "288    Data is estimated for this month    NaN  GWh  \n",
       "699    Data is estimated for this month    NaN  GWh  \n",
       "896    Data is estimated for this month    NaN  GWh  \n",
       "911    Data is estimated for this month    NaN  GWh  \n",
       "1060   Data is estimated for this month    NaN  GWh  \n",
       "1599   Data is estimated for this month    NaN  GWh  \n",
       "1600   Data is estimated for this month    NaN  GWh  \n",
       "1727   Data is estimated for this month    NaN  GWh  \n",
       "1876   Data is estimated for this month    NaN  GWh  \n",
       "2540   Data is estimated for this month    NaN  GWh  \n",
       "2689   Data is estimated for this month    NaN  GWh  \n",
       "3352   Data is estimated for this month    NaN  GWh  \n",
       "3500   Data is estimated for this month    NaN  GWh  \n",
       "4166   Data is estimated for this month    NaN  GWh  \n",
       "4314   Data is estimated for this month    NaN  GWh  \n",
       "4981   Data is estimated for this month    NaN  GWh  \n",
       "5795   Data is estimated for this month    NaN  GWh  \n",
       "6611   Data is estimated for this month    NaN  GWh  \n",
       "7426   Data is estimated for this month    NaN  GWh  \n",
       "8241   Data is estimated for this month    NaN  GWh  \n",
       "9054   Data is estimated for this month    NaN  GWh  \n",
       "9867   Data is estimated for this month    NaN  GWh  \n",
       "10684  Data is estimated for this month    NaN  GWh  \n",
       "11498  Data is estimated for this month    NaN  GWh  \n",
       "12310  Data is estimated for this month    NaN  GWh  \n",
       "13124  Data is estimated for this month    NaN  GWh  \n",
       "13937  Data is estimated for this month    NaN  GWh  \n",
       "14754  Data is estimated for this month    NaN  GWh  \n",
       "15571  Data is estimated for this month    NaN  GWh  \n",
       "16387  Data is estimated for this month    NaN  GWh  \n",
       "17204  Data is estimated for this month    NaN  GWh  \n",
       "18022  Data is estimated for this month    NaN  GWh  \n",
       "18839  Data is estimated for this month    NaN  GWh  \n",
       "19656  Data is estimated for this month    NaN  GWh  \n",
       "20476  Data is estimated for this month    NaN  GWh  \n",
       "21295  Data is estimated for this month    NaN  GWh  \n",
       "22114  Data is estimated for this month    NaN  GWh  "
      ]
     },
     "execution_count": 18,
     "metadata": {},
     "output_type": "execute_result"
    }
   ],
   "source": [
    "df[df.isnull().any(axis=1)]"
   ]
  },
  {
   "cell_type": "code",
   "execution_count": 3,
   "id": "77312915",
   "metadata": {},
   "outputs": [
    {
     "data": {
      "text/plain": [
       "Country    0\n",
       "Time       0\n",
       "Balance    0\n",
       "Product    0\n",
       "Value      0\n",
       "Unit       0\n",
       "dtype: int64"
      ]
     },
     "execution_count": 3,
     "metadata": {},
     "output_type": "execute_result"
    }
   ],
   "source": [
    "df_filtered = df[df['Balance'] != 'Remarks']\n",
    "df_filtered.isna().sum()"
   ]
  },
  {
   "cell_type": "code",
   "execution_count": 16,
   "id": "fef7fd7e",
   "metadata": {},
   "outputs": [
    {
     "name": "stdout",
     "output_type": "stream",
     "text": [
      "Outliers based on z-score:\n",
      " Empty DataFrame\n",
      "Columns: [Country, Time, Balance, Product, Value, Unit, z_score]\n",
      "Index: []\n"
     ]
    }
   ],
   "source": [
    "# Calculate z-scores for the 'Value' column\n",
    "df['z_score'] = stats.zscore(df['Value'])\n",
    "\n",
    "# Identify rows with z-scores greater than 3 or less than -3\n",
    "outliers = df[abs(df['z_score']) > 3]\n",
    "print(\"Outliers based on z-score:\\n\", outliers)"
   ]
  },
  {
   "cell_type": "code",
   "execution_count": 20,
   "id": "8dbce8b7",
   "metadata": {},
   "outputs": [
    {
     "data": {
      "text/html": [
       "<div>\n",
       "<style scoped>\n",
       "    .dataframe tbody tr th:only-of-type {\n",
       "        vertical-align: middle;\n",
       "    }\n",
       "\n",
       "    .dataframe tbody tr th {\n",
       "        vertical-align: top;\n",
       "    }\n",
       "\n",
       "    .dataframe thead th {\n",
       "        text-align: right;\n",
       "    }\n",
       "</style>\n",
       "<table border=\"1\" class=\"dataframe\">\n",
       "  <thead>\n",
       "    <tr style=\"text-align: right;\">\n",
       "      <th></th>\n",
       "      <th>Country</th>\n",
       "      <th>Time</th>\n",
       "      <th>Balance</th>\n",
       "      <th>Product</th>\n",
       "      <th>Value</th>\n",
       "      <th>Unit</th>\n",
       "    </tr>\n",
       "  </thead>\n",
       "  <tbody>\n",
       "    <tr>\n",
       "      <th>432</th>\n",
       "      <td>Poland</td>\n",
       "      <td>April 2025</td>\n",
       "      <td>Net Electricity Production</td>\n",
       "      <td>Oil and Petroleum Products</td>\n",
       "      <td>0.0</td>\n",
       "      <td>GWh</td>\n",
       "    </tr>\n",
       "    <tr>\n",
       "      <th>1248</th>\n",
       "      <td>Poland</td>\n",
       "      <td>March 2025</td>\n",
       "      <td>Net Electricity Production</td>\n",
       "      <td>Oil and Petroleum Products</td>\n",
       "      <td>0.0</td>\n",
       "      <td>GWh</td>\n",
       "    </tr>\n",
       "    <tr>\n",
       "      <th>2064</th>\n",
       "      <td>Poland</td>\n",
       "      <td>February 2025</td>\n",
       "      <td>Net Electricity Production</td>\n",
       "      <td>Oil and Petroleum Products</td>\n",
       "      <td>0.0</td>\n",
       "      <td>GWh</td>\n",
       "    </tr>\n",
       "    <tr>\n",
       "      <th>2877</th>\n",
       "      <td>Poland</td>\n",
       "      <td>January 2025</td>\n",
       "      <td>Net Electricity Production</td>\n",
       "      <td>Oil and Petroleum Products</td>\n",
       "      <td>0.0</td>\n",
       "      <td>GWh</td>\n",
       "    </tr>\n",
       "    <tr>\n",
       "      <th>3689</th>\n",
       "      <td>Poland</td>\n",
       "      <td>December 2024</td>\n",
       "      <td>Net Electricity Production</td>\n",
       "      <td>Oil and Petroleum Products</td>\n",
       "      <td>0.0</td>\n",
       "      <td>GWh</td>\n",
       "    </tr>\n",
       "    <tr>\n",
       "      <th>...</th>\n",
       "      <td>...</td>\n",
       "      <td>...</td>\n",
       "      <td>...</td>\n",
       "      <td>...</td>\n",
       "      <td>...</td>\n",
       "      <td>...</td>\n",
       "    </tr>\n",
       "    <tr>\n",
       "      <th>151514</th>\n",
       "      <td>Republic of Turkiye</td>\n",
       "      <td>January 2010</td>\n",
       "      <td>Used for pumped storage</td>\n",
       "      <td>Electricity</td>\n",
       "      <td>0.0</td>\n",
       "      <td>GWh</td>\n",
       "    </tr>\n",
       "    <tr>\n",
       "      <th>151526</th>\n",
       "      <td>United Kingdom</td>\n",
       "      <td>January 2010</td>\n",
       "      <td>Net Electricity Production</td>\n",
       "      <td>Geothermal</td>\n",
       "      <td>0.0</td>\n",
       "      <td>GWh</td>\n",
       "    </tr>\n",
       "    <tr>\n",
       "      <th>151530</th>\n",
       "      <td>United Kingdom</td>\n",
       "      <td>January 2010</td>\n",
       "      <td>Net Electricity Production</td>\n",
       "      <td>Not Specified</td>\n",
       "      <td>0.0</td>\n",
       "      <td>GWh</td>\n",
       "    </tr>\n",
       "    <tr>\n",
       "      <th>151590</th>\n",
       "      <td>OECD Asia Oceania</td>\n",
       "      <td>January 2010</td>\n",
       "      <td>Total Imports</td>\n",
       "      <td>Electricity</td>\n",
       "      <td>0.0</td>\n",
       "      <td>GWh</td>\n",
       "    </tr>\n",
       "    <tr>\n",
       "      <th>151591</th>\n",
       "      <td>OECD Asia Oceania</td>\n",
       "      <td>January 2010</td>\n",
       "      <td>Total Exports</td>\n",
       "      <td>Electricity</td>\n",
       "      <td>0.0</td>\n",
       "      <td>GWh</td>\n",
       "    </tr>\n",
       "  </tbody>\n",
       "</table>\n",
       "<p>11243 rows × 6 columns</p>\n",
       "</div>"
      ],
      "text/plain": [
       "                    Country           Time                     Balance  \\\n",
       "432                  Poland     April 2025  Net Electricity Production   \n",
       "1248                 Poland     March 2025  Net Electricity Production   \n",
       "2064                 Poland  February 2025  Net Electricity Production   \n",
       "2877                 Poland   January 2025  Net Electricity Production   \n",
       "3689                 Poland  December 2024  Net Electricity Production   \n",
       "...                     ...            ...                         ...   \n",
       "151514  Republic of Turkiye   January 2010     Used for pumped storage   \n",
       "151526       United Kingdom   January 2010  Net Electricity Production   \n",
       "151530       United Kingdom   January 2010  Net Electricity Production   \n",
       "151590    OECD Asia Oceania   January 2010               Total Imports   \n",
       "151591    OECD Asia Oceania   January 2010               Total Exports   \n",
       "\n",
       "                           Product  Value Unit  \n",
       "432     Oil and Petroleum Products    0.0  GWh  \n",
       "1248    Oil and Petroleum Products    0.0  GWh  \n",
       "2064    Oil and Petroleum Products    0.0  GWh  \n",
       "2877    Oil and Petroleum Products    0.0  GWh  \n",
       "3689    Oil and Petroleum Products    0.0  GWh  \n",
       "...                            ...    ...  ...  \n",
       "151514                 Electricity    0.0  GWh  \n",
       "151526                  Geothermal    0.0  GWh  \n",
       "151530               Not Specified    0.0  GWh  \n",
       "151590                 Electricity    0.0  GWh  \n",
       "151591                 Electricity    0.0  GWh  \n",
       "\n",
       "[11243 rows x 6 columns]"
      ]
     },
     "execution_count": 20,
     "metadata": {},
     "output_type": "execute_result"
    }
   ],
   "source": [
    "df_zeros = df_filtered[df_filtered['Value'] == 0]\n",
    "df_zeros"
   ]
  },
  {
   "cell_type": "code",
   "execution_count": null,
   "id": "96dbe176",
   "metadata": {},
   "outputs": [
    {
     "data": {
      "text/html": [
       "<div>\n",
       "<style scoped>\n",
       "    .dataframe tbody tr th:only-of-type {\n",
       "        vertical-align: middle;\n",
       "    }\n",
       "\n",
       "    .dataframe tbody tr th {\n",
       "        vertical-align: top;\n",
       "    }\n",
       "\n",
       "    .dataframe thead th {\n",
       "        text-align: right;\n",
       "    }\n",
       "</style>\n",
       "<table border=\"1\" class=\"dataframe\">\n",
       "  <thead>\n",
       "    <tr style=\"text-align: right;\">\n",
       "      <th></th>\n",
       "      <th>Country</th>\n",
       "      <th>Time</th>\n",
       "      <th>Balance</th>\n",
       "      <th>Product</th>\n",
       "      <th>Value</th>\n",
       "      <th>Unit</th>\n",
       "    </tr>\n",
       "  </thead>\n",
       "  <tbody>\n",
       "    <tr>\n",
       "      <th>226</th>\n",
       "      <td>Hungary</td>\n",
       "      <td>April 2025</td>\n",
       "      <td>Net Electricity Production</td>\n",
       "      <td>Electricity</td>\n",
       "      <td>3358.0852</td>\n",
       "      <td>GWh</td>\n",
       "    </tr>\n",
       "    <tr>\n",
       "      <th>227</th>\n",
       "      <td>Hungary</td>\n",
       "      <td>April 2025</td>\n",
       "      <td>Net Electricity Production</td>\n",
       "      <td>Nuclear</td>\n",
       "      <td>1388.0299</td>\n",
       "      <td>GWh</td>\n",
       "    </tr>\n",
       "    <tr>\n",
       "      <th>228</th>\n",
       "      <td>Hungary</td>\n",
       "      <td>April 2025</td>\n",
       "      <td>Net Electricity Production</td>\n",
       "      <td>Total Combustible Fuels</td>\n",
       "      <td>680.5015</td>\n",
       "      <td>GWh</td>\n",
       "    </tr>\n",
       "    <tr>\n",
       "      <th>229</th>\n",
       "      <td>Hungary</td>\n",
       "      <td>April 2025</td>\n",
       "      <td>Net Electricity Production</td>\n",
       "      <td>Hydro</td>\n",
       "      <td>29.2611</td>\n",
       "      <td>GWh</td>\n",
       "    </tr>\n",
       "    <tr>\n",
       "      <th>230</th>\n",
       "      <td>Hungary</td>\n",
       "      <td>April 2025</td>\n",
       "      <td>Net Electricity Production</td>\n",
       "      <td>Coal, Peat and Manufactured Gases</td>\n",
       "      <td>86.5426</td>\n",
       "      <td>GWh</td>\n",
       "    </tr>\n",
       "    <tr>\n",
       "      <th>...</th>\n",
       "      <td>...</td>\n",
       "      <td>...</td>\n",
       "      <td>...</td>\n",
       "      <td>...</td>\n",
       "      <td>...</td>\n",
       "      <td>...</td>\n",
       "    </tr>\n",
       "    <tr>\n",
       "      <th>151172</th>\n",
       "      <td>Hungary</td>\n",
       "      <td>January 2010</td>\n",
       "      <td>Net Electricity Production</td>\n",
       "      <td>Combustible Renewables</td>\n",
       "      <td>171.4740</td>\n",
       "      <td>GWh</td>\n",
       "    </tr>\n",
       "    <tr>\n",
       "      <th>151173</th>\n",
       "      <td>Hungary</td>\n",
       "      <td>January 2010</td>\n",
       "      <td>Net Electricity Production</td>\n",
       "      <td>Other Combustible Non-Renewables</td>\n",
       "      <td>11.3470</td>\n",
       "      <td>GWh</td>\n",
       "    </tr>\n",
       "    <tr>\n",
       "      <th>151174</th>\n",
       "      <td>Hungary</td>\n",
       "      <td>January 2010</td>\n",
       "      <td>Net Electricity Production</td>\n",
       "      <td>Solar</td>\n",
       "      <td>0.0200</td>\n",
       "      <td>GWh</td>\n",
       "    </tr>\n",
       "    <tr>\n",
       "      <th>151175</th>\n",
       "      <td>Hungary</td>\n",
       "      <td>January 2010</td>\n",
       "      <td>Net Electricity Production</td>\n",
       "      <td>Total Renewables (Hydro, Geo, Solar, Wind, Other)</td>\n",
       "      <td>209.1840</td>\n",
       "      <td>GWh</td>\n",
       "    </tr>\n",
       "    <tr>\n",
       "      <th>151180</th>\n",
       "      <td>Hungary</td>\n",
       "      <td>January 2010</td>\n",
       "      <td>Net Electricity Production</td>\n",
       "      <td>Wind</td>\n",
       "      <td>28.1070</td>\n",
       "      <td>GWh</td>\n",
       "    </tr>\n",
       "  </tbody>\n",
       "</table>\n",
       "<p>2483 rows × 6 columns</p>\n",
       "</div>"
      ],
      "text/plain": [
       "        Country          Time                     Balance  \\\n",
       "226     Hungary    April 2025  Net Electricity Production   \n",
       "227     Hungary    April 2025  Net Electricity Production   \n",
       "228     Hungary    April 2025  Net Electricity Production   \n",
       "229     Hungary    April 2025  Net Electricity Production   \n",
       "230     Hungary    April 2025  Net Electricity Production   \n",
       "...         ...           ...                         ...   \n",
       "151172  Hungary  January 2010  Net Electricity Production   \n",
       "151173  Hungary  January 2010  Net Electricity Production   \n",
       "151174  Hungary  January 2010  Net Electricity Production   \n",
       "151175  Hungary  January 2010  Net Electricity Production   \n",
       "151180  Hungary  January 2010  Net Electricity Production   \n",
       "\n",
       "                                                  Product      Value Unit  \n",
       "226                                           Electricity  3358.0852  GWh  \n",
       "227                                               Nuclear  1388.0299  GWh  \n",
       "228                               Total Combustible Fuels   680.5015  GWh  \n",
       "229                                                 Hydro    29.2611  GWh  \n",
       "230                     Coal, Peat and Manufactured Gases    86.5426  GWh  \n",
       "...                                                   ...        ...  ...  \n",
       "151172                             Combustible Renewables   171.4740  GWh  \n",
       "151173                   Other Combustible Non-Renewables    11.3470  GWh  \n",
       "151174                                              Solar     0.0200  GWh  \n",
       "151175  Total Renewables (Hydro, Geo, Solar, Wind, Other)   209.1840  GWh  \n",
       "151180                                               Wind    28.1070  GWh  \n",
       "\n",
       "[2483 rows x 6 columns]"
      ]
     },
     "execution_count": 8,
     "metadata": {},
     "output_type": "execute_result"
    }
   ],
   "source": [
    "df_hungary = df[(df['Country'] == 'Hungary') & (df['Balance'] == 'Net Electricity Production')]\n",
    "df_hungary"
   ]
  },
  {
   "cell_type": "code",
   "execution_count": 4,
   "id": "cd8dfc71",
   "metadata": {},
   "outputs": [
    {
     "data": {
      "text/plain": [
       "array(['Electricity', 'Nuclear', 'Hydro', 'Total Combustible Fuels',\n",
       "       'Coal, Peat and Manufactured Gases', 'Oil and Petroleum Products',\n",
       "       'Natural Gas', 'Combustible Renewables',\n",
       "       'Other Combustible Non-Renewables', 'Geothermal', 'Solar',\n",
       "       'Not Specified',\n",
       "       'Total Renewables (Hydro, Geo, Solar, Wind, Other)', 'Wind'],\n",
       "      dtype=object)"
      ]
     },
     "execution_count": 4,
     "metadata": {},
     "output_type": "execute_result"
    }
   ],
   "source": [
    "df_us = df_filtered[\n",
    "    (df_filtered['Country'] == 'United States') & \n",
    "    (df_filtered['Balance'] == 'Net Electricity Production') & \n",
    "    (df_filtered['Time'].str.contains('2020|2021|2022|2023|2024|2025')) &\n",
    "    (df_filtered['Product'] != 'Other Renewables')\n",
    "    ]\n",
    "\n",
    "df_us['Product'].unique()"
   ]
  },
  {
   "cell_type": "code",
   "execution_count": 13,
   "id": "2b6a1a34",
   "metadata": {},
   "outputs": [],
   "source": [
    "copied_df_us = df_us.copy(deep=True)"
   ]
  },
  {
   "cell_type": "code",
   "execution_count": 14,
   "id": "a53e95eb",
   "metadata": {},
   "outputs": [
    {
     "data": {
      "text/html": [
       "<div>\n",
       "<style scoped>\n",
       "    .dataframe tbody tr th:only-of-type {\n",
       "        vertical-align: middle;\n",
       "    }\n",
       "\n",
       "    .dataframe tbody tr th {\n",
       "        vertical-align: top;\n",
       "    }\n",
       "\n",
       "    .dataframe thead th {\n",
       "        text-align: right;\n",
       "    }\n",
       "</style>\n",
       "<table border=\"1\" class=\"dataframe\">\n",
       "  <thead>\n",
       "    <tr style=\"text-align: right;\">\n",
       "      <th></th>\n",
       "      <th>Country</th>\n",
       "      <th>Time</th>\n",
       "      <th>Balance</th>\n",
       "      <th>Product</th>\n",
       "      <th>Value</th>\n",
       "      <th>Unit</th>\n",
       "      <th>Clean Energy</th>\n",
       "    </tr>\n",
       "  </thead>\n",
       "  <tbody>\n",
       "    <tr>\n",
       "      <th>583</th>\n",
       "      <td>United States</td>\n",
       "      <td>April 2025</td>\n",
       "      <td>Net Electricity Production</td>\n",
       "      <td>Electricity</td>\n",
       "      <td>332500.5960</td>\n",
       "      <td>GWh</td>\n",
       "      <td>0.0000</td>\n",
       "    </tr>\n",
       "    <tr>\n",
       "      <th>584</th>\n",
       "      <td>United States</td>\n",
       "      <td>April 2025</td>\n",
       "      <td>Net Electricity Production</td>\n",
       "      <td>Nuclear</td>\n",
       "      <td>57869.1712</td>\n",
       "      <td>GWh</td>\n",
       "      <td>57869.1712</td>\n",
       "    </tr>\n",
       "    <tr>\n",
       "      <th>585</th>\n",
       "      <td>United States</td>\n",
       "      <td>April 2025</td>\n",
       "      <td>Net Electricity Production</td>\n",
       "      <td>Hydro</td>\n",
       "      <td>24210.5224</td>\n",
       "      <td>GWh</td>\n",
       "      <td>24210.5224</td>\n",
       "    </tr>\n",
       "    <tr>\n",
       "      <th>586</th>\n",
       "      <td>United States</td>\n",
       "      <td>April 2025</td>\n",
       "      <td>Net Electricity Production</td>\n",
       "      <td>Total Combustible Fuels</td>\n",
       "      <td>168631.6166</td>\n",
       "      <td>GWh</td>\n",
       "      <td>0.0000</td>\n",
       "    </tr>\n",
       "    <tr>\n",
       "      <th>587</th>\n",
       "      <td>United States</td>\n",
       "      <td>April 2025</td>\n",
       "      <td>Net Electricity Production</td>\n",
       "      <td>Coal, Peat and Manufactured Gases</td>\n",
       "      <td>47977.6321</td>\n",
       "      <td>GWh</td>\n",
       "      <td>0.0000</td>\n",
       "    </tr>\n",
       "  </tbody>\n",
       "</table>\n",
       "</div>"
      ],
      "text/plain": [
       "           Country        Time                     Balance  \\\n",
       "583  United States  April 2025  Net Electricity Production   \n",
       "584  United States  April 2025  Net Electricity Production   \n",
       "585  United States  April 2025  Net Electricity Production   \n",
       "586  United States  April 2025  Net Electricity Production   \n",
       "587  United States  April 2025  Net Electricity Production   \n",
       "\n",
       "                               Product        Value Unit  Clean Energy  \n",
       "583                        Electricity  332500.5960  GWh        0.0000  \n",
       "584                            Nuclear   57869.1712  GWh    57869.1712  \n",
       "585                              Hydro   24210.5224  GWh    24210.5224  \n",
       "586            Total Combustible Fuels  168631.6166  GWh        0.0000  \n",
       "587  Coal, Peat and Manufactured Gases   47977.6321  GWh        0.0000  "
      ]
     },
     "execution_count": 14,
     "metadata": {},
     "output_type": "execute_result"
    }
   ],
   "source": [
    "clean_energy = [\"Nuclear\", \"Hydro\", \"Geothermal\", \"Solar\", \"Wind\"]\n",
    "\n",
    "copied_df_us[\"Clean Energy\"] = copied_df_us[\"Value\"].where(copied_df_us[\"Product\"].isin(clean_energy), 0)\n",
    "copied_df_us.head()"
   ]
  },
  {
   "cell_type": "code",
   "execution_count": 12,
   "id": "368c5b8d",
   "metadata": {},
   "outputs": [
    {
     "ename": "ValueError",
     "evalue": "Mime type rendering requires nbformat>=4.2.0 but it is not installed",
     "output_type": "error",
     "traceback": [
      "\u001b[31m---------------------------------------------------------------------------\u001b[39m",
      "\u001b[31mValueError\u001b[39m                                Traceback (most recent call last)",
      "\u001b[36mFile \u001b[39m\u001b[32m~/Bluesky/.venv/lib/python3.12/site-packages/IPython/core/formatters.py:984\u001b[39m, in \u001b[36mIPythonDisplayFormatter.__call__\u001b[39m\u001b[34m(self, obj)\u001b[39m\n\u001b[32m    982\u001b[39m method = get_real_method(obj, \u001b[38;5;28mself\u001b[39m.print_method)\n\u001b[32m    983\u001b[39m \u001b[38;5;28;01mif\u001b[39;00m method \u001b[38;5;129;01mis\u001b[39;00m \u001b[38;5;129;01mnot\u001b[39;00m \u001b[38;5;28;01mNone\u001b[39;00m:\n\u001b[32m--> \u001b[39m\u001b[32m984\u001b[39m     \u001b[43mmethod\u001b[49m\u001b[43m(\u001b[49m\u001b[43m)\u001b[49m\n\u001b[32m    985\u001b[39m     \u001b[38;5;28;01mreturn\u001b[39;00m \u001b[38;5;28;01mTrue\u001b[39;00m\n",
      "\u001b[36mFile \u001b[39m\u001b[32m~/Bluesky/.venv/lib/python3.12/site-packages/plotly/basedatatypes.py:850\u001b[39m, in \u001b[36mBaseFigure._ipython_display_\u001b[39m\u001b[34m(self)\u001b[39m\n\u001b[32m    847\u001b[39m \u001b[38;5;28;01mimport\u001b[39;00m\u001b[38;5;250m \u001b[39m\u001b[34;01mplotly\u001b[39;00m\u001b[34;01m.\u001b[39;00m\u001b[34;01mio\u001b[39;00m\u001b[38;5;250m \u001b[39m\u001b[38;5;28;01mas\u001b[39;00m\u001b[38;5;250m \u001b[39m\u001b[34;01mpio\u001b[39;00m\n\u001b[32m    849\u001b[39m \u001b[38;5;28;01mif\u001b[39;00m pio.renderers.render_on_display \u001b[38;5;129;01mand\u001b[39;00m pio.renderers.default:\n\u001b[32m--> \u001b[39m\u001b[32m850\u001b[39m     \u001b[43mpio\u001b[49m\u001b[43m.\u001b[49m\u001b[43mshow\u001b[49m\u001b[43m(\u001b[49m\u001b[38;5;28;43mself\u001b[39;49m\u001b[43m)\u001b[49m\n\u001b[32m    851\u001b[39m \u001b[38;5;28;01melse\u001b[39;00m:\n\u001b[32m    852\u001b[39m     \u001b[38;5;28mprint\u001b[39m(\u001b[38;5;28mrepr\u001b[39m(\u001b[38;5;28mself\u001b[39m))\n",
      "\u001b[36mFile \u001b[39m\u001b[32m~/Bluesky/.venv/lib/python3.12/site-packages/plotly/io/_renderers.py:415\u001b[39m, in \u001b[36mshow\u001b[39m\u001b[34m(fig, renderer, validate, **kwargs)\u001b[39m\n\u001b[32m    410\u001b[39m     \u001b[38;5;28;01mraise\u001b[39;00m \u001b[38;5;167;01mValueError\u001b[39;00m(\n\u001b[32m    411\u001b[39m         \u001b[33m\"\u001b[39m\u001b[33mMime type rendering requires ipython but it is not installed\u001b[39m\u001b[33m\"\u001b[39m\n\u001b[32m    412\u001b[39m     )\n\u001b[32m    414\u001b[39m \u001b[38;5;28;01mif\u001b[39;00m \u001b[38;5;129;01mnot\u001b[39;00m nbformat \u001b[38;5;129;01mor\u001b[39;00m Version(nbformat.__version__) < Version(\u001b[33m\"\u001b[39m\u001b[33m4.2.0\u001b[39m\u001b[33m\"\u001b[39m):\n\u001b[32m--> \u001b[39m\u001b[32m415\u001b[39m     \u001b[38;5;28;01mraise\u001b[39;00m \u001b[38;5;167;01mValueError\u001b[39;00m(\n\u001b[32m    416\u001b[39m         \u001b[33m\"\u001b[39m\u001b[33mMime type rendering requires nbformat>=4.2.0 but it is not installed\u001b[39m\u001b[33m\"\u001b[39m\n\u001b[32m    417\u001b[39m     )\n\u001b[32m    419\u001b[39m display_jupyter_version_warnings()\n\u001b[32m    421\u001b[39m ipython_display.display(bundle, raw=\u001b[38;5;28;01mTrue\u001b[39;00m)\n",
      "\u001b[31mValueError\u001b[39m: Mime type rendering requires nbformat>=4.2.0 but it is not installed"
     ]
    },
    {
     "data": {
      "application/vnd.plotly.v1+json": {
       "config": {
        "plotlyServerURL": "https://plot.ly"
       },
       "data": [
        {
         "branchvalues": "total",
         "domain": {
          "x": [
           0,
           1
          ],
          "y": [
           0,
           1
          ]
         },
         "hovertemplate": "labels=%{label}<br>Value=%{value}<br>parent=%{parent}<br>id=%{id}<extra></extra>",
         "ids": [
          "Electricity",
          "Nuclear",
          "Hydro",
          "Total Combustible Fuels",
          "Coal, Peat and Manufactured Gases",
          "Oil and Petroleum Products",
          "Natural Gas",
          "Combustible Renewables",
          "Other Combustible Non-Renewables",
          "Geothermal",
          "Solar",
          "Not Specified",
          "Total Renewables (Hydro, Geo, Solar, Wind, Other)",
          "Wind",
          "Other Renewables"
         ],
         "labels": [
          "Electricity",
          "Nuclear",
          "Hydro",
          "Total Combustible Fuels",
          "Coal, Peat and Manufactured Gases",
          "Oil and Petroleum Products",
          "Natural Gas",
          "Combustible Renewables",
          "Other Combustible Non-Renewables",
          "Geothermal",
          "Solar",
          "Not Specified",
          "Total Renewables (Hydro, Geo, Solar, Wind, Other)",
          "Wind",
          "Other Renewables"
         ],
         "name": "",
         "parents": [
          "",
          "",
          "",
          "",
          "",
          "",
          "",
          "",
          "",
          "",
          "",
          "",
          "",
          "",
          ""
         ],
         "type": "sunburst",
         "values": {
          "bdata": "H4XrSK+ndUERx7roJahPQeviNrq+kDZBO3DO0pskakFoImzEIkNQQfW52gpoiAZBP1db8UYIYUGe76dGYTARQUMc6+LUHudAx7q4jRTD9EDx9ErpNhkwQb4wmSqYRd1AtFn1BTN3U0FF2PBsRs1AQQAAAAAAAAAA",
          "dtype": "f8"
         }
        }
       ],
       "layout": {
        "legend": {
         "tracegroupgap": 0
        },
        "margin": {
         "t": 60
        },
        "template": {
         "data": {
          "bar": [
           {
            "error_x": {
             "color": "#2a3f5f"
            },
            "error_y": {
             "color": "#2a3f5f"
            },
            "marker": {
             "line": {
              "color": "#E5ECF6",
              "width": 0.5
             },
             "pattern": {
              "fillmode": "overlay",
              "size": 10,
              "solidity": 0.2
             }
            },
            "type": "bar"
           }
          ],
          "barpolar": [
           {
            "marker": {
             "line": {
              "color": "#E5ECF6",
              "width": 0.5
             },
             "pattern": {
              "fillmode": "overlay",
              "size": 10,
              "solidity": 0.2
             }
            },
            "type": "barpolar"
           }
          ],
          "carpet": [
           {
            "aaxis": {
             "endlinecolor": "#2a3f5f",
             "gridcolor": "white",
             "linecolor": "white",
             "minorgridcolor": "white",
             "startlinecolor": "#2a3f5f"
            },
            "baxis": {
             "endlinecolor": "#2a3f5f",
             "gridcolor": "white",
             "linecolor": "white",
             "minorgridcolor": "white",
             "startlinecolor": "#2a3f5f"
            },
            "type": "carpet"
           }
          ],
          "choropleth": [
           {
            "colorbar": {
             "outlinewidth": 0,
             "ticks": ""
            },
            "type": "choropleth"
           }
          ],
          "contour": [
           {
            "colorbar": {
             "outlinewidth": 0,
             "ticks": ""
            },
            "colorscale": [
             [
              0,
              "#0d0887"
             ],
             [
              0.1111111111111111,
              "#46039f"
             ],
             [
              0.2222222222222222,
              "#7201a8"
             ],
             [
              0.3333333333333333,
              "#9c179e"
             ],
             [
              0.4444444444444444,
              "#bd3786"
             ],
             [
              0.5555555555555556,
              "#d8576b"
             ],
             [
              0.6666666666666666,
              "#ed7953"
             ],
             [
              0.7777777777777778,
              "#fb9f3a"
             ],
             [
              0.8888888888888888,
              "#fdca26"
             ],
             [
              1,
              "#f0f921"
             ]
            ],
            "type": "contour"
           }
          ],
          "contourcarpet": [
           {
            "colorbar": {
             "outlinewidth": 0,
             "ticks": ""
            },
            "type": "contourcarpet"
           }
          ],
          "heatmap": [
           {
            "colorbar": {
             "outlinewidth": 0,
             "ticks": ""
            },
            "colorscale": [
             [
              0,
              "#0d0887"
             ],
             [
              0.1111111111111111,
              "#46039f"
             ],
             [
              0.2222222222222222,
              "#7201a8"
             ],
             [
              0.3333333333333333,
              "#9c179e"
             ],
             [
              0.4444444444444444,
              "#bd3786"
             ],
             [
              0.5555555555555556,
              "#d8576b"
             ],
             [
              0.6666666666666666,
              "#ed7953"
             ],
             [
              0.7777777777777778,
              "#fb9f3a"
             ],
             [
              0.8888888888888888,
              "#fdca26"
             ],
             [
              1,
              "#f0f921"
             ]
            ],
            "type": "heatmap"
           }
          ],
          "histogram": [
           {
            "marker": {
             "pattern": {
              "fillmode": "overlay",
              "size": 10,
              "solidity": 0.2
             }
            },
            "type": "histogram"
           }
          ],
          "histogram2d": [
           {
            "colorbar": {
             "outlinewidth": 0,
             "ticks": ""
            },
            "colorscale": [
             [
              0,
              "#0d0887"
             ],
             [
              0.1111111111111111,
              "#46039f"
             ],
             [
              0.2222222222222222,
              "#7201a8"
             ],
             [
              0.3333333333333333,
              "#9c179e"
             ],
             [
              0.4444444444444444,
              "#bd3786"
             ],
             [
              0.5555555555555556,
              "#d8576b"
             ],
             [
              0.6666666666666666,
              "#ed7953"
             ],
             [
              0.7777777777777778,
              "#fb9f3a"
             ],
             [
              0.8888888888888888,
              "#fdca26"
             ],
             [
              1,
              "#f0f921"
             ]
            ],
            "type": "histogram2d"
           }
          ],
          "histogram2dcontour": [
           {
            "colorbar": {
             "outlinewidth": 0,
             "ticks": ""
            },
            "colorscale": [
             [
              0,
              "#0d0887"
             ],
             [
              0.1111111111111111,
              "#46039f"
             ],
             [
              0.2222222222222222,
              "#7201a8"
             ],
             [
              0.3333333333333333,
              "#9c179e"
             ],
             [
              0.4444444444444444,
              "#bd3786"
             ],
             [
              0.5555555555555556,
              "#d8576b"
             ],
             [
              0.6666666666666666,
              "#ed7953"
             ],
             [
              0.7777777777777778,
              "#fb9f3a"
             ],
             [
              0.8888888888888888,
              "#fdca26"
             ],
             [
              1,
              "#f0f921"
             ]
            ],
            "type": "histogram2dcontour"
           }
          ],
          "mesh3d": [
           {
            "colorbar": {
             "outlinewidth": 0,
             "ticks": ""
            },
            "type": "mesh3d"
           }
          ],
          "parcoords": [
           {
            "line": {
             "colorbar": {
              "outlinewidth": 0,
              "ticks": ""
             }
            },
            "type": "parcoords"
           }
          ],
          "pie": [
           {
            "automargin": true,
            "type": "pie"
           }
          ],
          "scatter": [
           {
            "fillpattern": {
             "fillmode": "overlay",
             "size": 10,
             "solidity": 0.2
            },
            "type": "scatter"
           }
          ],
          "scatter3d": [
           {
            "line": {
             "colorbar": {
              "outlinewidth": 0,
              "ticks": ""
             }
            },
            "marker": {
             "colorbar": {
              "outlinewidth": 0,
              "ticks": ""
             }
            },
            "type": "scatter3d"
           }
          ],
          "scattercarpet": [
           {
            "marker": {
             "colorbar": {
              "outlinewidth": 0,
              "ticks": ""
             }
            },
            "type": "scattercarpet"
           }
          ],
          "scattergeo": [
           {
            "marker": {
             "colorbar": {
              "outlinewidth": 0,
              "ticks": ""
             }
            },
            "type": "scattergeo"
           }
          ],
          "scattergl": [
           {
            "marker": {
             "colorbar": {
              "outlinewidth": 0,
              "ticks": ""
             }
            },
            "type": "scattergl"
           }
          ],
          "scattermap": [
           {
            "marker": {
             "colorbar": {
              "outlinewidth": 0,
              "ticks": ""
             }
            },
            "type": "scattermap"
           }
          ],
          "scattermapbox": [
           {
            "marker": {
             "colorbar": {
              "outlinewidth": 0,
              "ticks": ""
             }
            },
            "type": "scattermapbox"
           }
          ],
          "scatterpolar": [
           {
            "marker": {
             "colorbar": {
              "outlinewidth": 0,
              "ticks": ""
             }
            },
            "type": "scatterpolar"
           }
          ],
          "scatterpolargl": [
           {
            "marker": {
             "colorbar": {
              "outlinewidth": 0,
              "ticks": ""
             }
            },
            "type": "scatterpolargl"
           }
          ],
          "scatterternary": [
           {
            "marker": {
             "colorbar": {
              "outlinewidth": 0,
              "ticks": ""
             }
            },
            "type": "scatterternary"
           }
          ],
          "surface": [
           {
            "colorbar": {
             "outlinewidth": 0,
             "ticks": ""
            },
            "colorscale": [
             [
              0,
              "#0d0887"
             ],
             [
              0.1111111111111111,
              "#46039f"
             ],
             [
              0.2222222222222222,
              "#7201a8"
             ],
             [
              0.3333333333333333,
              "#9c179e"
             ],
             [
              0.4444444444444444,
              "#bd3786"
             ],
             [
              0.5555555555555556,
              "#d8576b"
             ],
             [
              0.6666666666666666,
              "#ed7953"
             ],
             [
              0.7777777777777778,
              "#fb9f3a"
             ],
             [
              0.8888888888888888,
              "#fdca26"
             ],
             [
              1,
              "#f0f921"
             ]
            ],
            "type": "surface"
           }
          ],
          "table": [
           {
            "cells": {
             "fill": {
              "color": "#EBF0F8"
             },
             "line": {
              "color": "white"
             }
            },
            "header": {
             "fill": {
              "color": "#C8D4E3"
             },
             "line": {
              "color": "white"
             }
            },
            "type": "table"
           }
          ]
         },
         "layout": {
          "annotationdefaults": {
           "arrowcolor": "#2a3f5f",
           "arrowhead": 0,
           "arrowwidth": 1
          },
          "autotypenumbers": "strict",
          "coloraxis": {
           "colorbar": {
            "outlinewidth": 0,
            "ticks": ""
           }
          },
          "colorscale": {
           "diverging": [
            [
             0,
             "#8e0152"
            ],
            [
             0.1,
             "#c51b7d"
            ],
            [
             0.2,
             "#de77ae"
            ],
            [
             0.3,
             "#f1b6da"
            ],
            [
             0.4,
             "#fde0ef"
            ],
            [
             0.5,
             "#f7f7f7"
            ],
            [
             0.6,
             "#e6f5d0"
            ],
            [
             0.7,
             "#b8e186"
            ],
            [
             0.8,
             "#7fbc41"
            ],
            [
             0.9,
             "#4d9221"
            ],
            [
             1,
             "#276419"
            ]
           ],
           "sequential": [
            [
             0,
             "#0d0887"
            ],
            [
             0.1111111111111111,
             "#46039f"
            ],
            [
             0.2222222222222222,
             "#7201a8"
            ],
            [
             0.3333333333333333,
             "#9c179e"
            ],
            [
             0.4444444444444444,
             "#bd3786"
            ],
            [
             0.5555555555555556,
             "#d8576b"
            ],
            [
             0.6666666666666666,
             "#ed7953"
            ],
            [
             0.7777777777777778,
             "#fb9f3a"
            ],
            [
             0.8888888888888888,
             "#fdca26"
            ],
            [
             1,
             "#f0f921"
            ]
           ],
           "sequentialminus": [
            [
             0,
             "#0d0887"
            ],
            [
             0.1111111111111111,
             "#46039f"
            ],
            [
             0.2222222222222222,
             "#7201a8"
            ],
            [
             0.3333333333333333,
             "#9c179e"
            ],
            [
             0.4444444444444444,
             "#bd3786"
            ],
            [
             0.5555555555555556,
             "#d8576b"
            ],
            [
             0.6666666666666666,
             "#ed7953"
            ],
            [
             0.7777777777777778,
             "#fb9f3a"
            ],
            [
             0.8888888888888888,
             "#fdca26"
            ],
            [
             1,
             "#f0f921"
            ]
           ]
          },
          "colorway": [
           "#636efa",
           "#EF553B",
           "#00cc96",
           "#ab63fa",
           "#FFA15A",
           "#19d3f3",
           "#FF6692",
           "#B6E880",
           "#FF97FF",
           "#FECB52"
          ],
          "font": {
           "color": "#2a3f5f"
          },
          "geo": {
           "bgcolor": "white",
           "lakecolor": "white",
           "landcolor": "#E5ECF6",
           "showlakes": true,
           "showland": true,
           "subunitcolor": "white"
          },
          "hoverlabel": {
           "align": "left"
          },
          "hovermode": "closest",
          "mapbox": {
           "style": "light"
          },
          "paper_bgcolor": "white",
          "plot_bgcolor": "#E5ECF6",
          "polar": {
           "angularaxis": {
            "gridcolor": "white",
            "linecolor": "white",
            "ticks": ""
           },
           "bgcolor": "#E5ECF6",
           "radialaxis": {
            "gridcolor": "white",
            "linecolor": "white",
            "ticks": ""
           }
          },
          "scene": {
           "xaxis": {
            "backgroundcolor": "#E5ECF6",
            "gridcolor": "white",
            "gridwidth": 2,
            "linecolor": "white",
            "showbackground": true,
            "ticks": "",
            "zerolinecolor": "white"
           },
           "yaxis": {
            "backgroundcolor": "#E5ECF6",
            "gridcolor": "white",
            "gridwidth": 2,
            "linecolor": "white",
            "showbackground": true,
            "ticks": "",
            "zerolinecolor": "white"
           },
           "zaxis": {
            "backgroundcolor": "#E5ECF6",
            "gridcolor": "white",
            "gridwidth": 2,
            "linecolor": "white",
            "showbackground": true,
            "ticks": "",
            "zerolinecolor": "white"
           }
          },
          "shapedefaults": {
           "line": {
            "color": "#2a3f5f"
           }
          },
          "ternary": {
           "aaxis": {
            "gridcolor": "white",
            "linecolor": "white",
            "ticks": ""
           },
           "baxis": {
            "gridcolor": "white",
            "linecolor": "white",
            "ticks": ""
           },
           "bgcolor": "#E5ECF6",
           "caxis": {
            "gridcolor": "white",
            "linecolor": "white",
            "ticks": ""
           }
          },
          "title": {
           "x": 0.05
          },
          "xaxis": {
           "automargin": true,
           "gridcolor": "white",
           "linecolor": "white",
           "ticks": "",
           "title": {
            "standoff": 15
           },
           "zerolinecolor": "white",
           "zerolinewidth": 2
          },
          "yaxis": {
           "automargin": true,
           "gridcolor": "white",
           "linecolor": "white",
           "ticks": "",
           "title": {
            "standoff": 15
           },
           "zerolinecolor": "white",
           "zerolinewidth": 2
          }
         }
        }
       }
      },
      "text/html": [
       "<div>                        <script type=\"text/javascript\">window.PlotlyConfig = {MathJaxConfig: 'local'};</script>\n",
       "        <script charset=\"utf-8\" src=\"https://cdn.plot.ly/plotly-3.0.1.min.js\" integrity=\"sha256-oy6Be7Eh6eiQFs5M7oXuPxxm9qbJXEtTpfSI93dW16Q=\" crossorigin=\"anonymous\"></script>                <div id=\"e5768e2d-9902-488e-ab47-01d1e2fad7a1\" class=\"plotly-graph-div\" style=\"height:100%; width:100%;\"></div>            <script type=\"text/javascript\">                window.PLOTLYENV=window.PLOTLYENV || {};                                if (document.getElementById(\"e5768e2d-9902-488e-ab47-01d1e2fad7a1\")) {                    Plotly.newPlot(                        \"e5768e2d-9902-488e-ab47-01d1e2fad7a1\",                        [{\"branchvalues\":\"total\",\"domain\":{\"x\":[0.0,1.0],\"y\":[0.0,1.0]},\"hovertemplate\":\"labels=%{label}\\u003cbr\\u003eValue=%{value}\\u003cbr\\u003eparent=%{parent}\\u003cbr\\u003eid=%{id}\\u003cextra\\u003e\\u003c\\u002fextra\\u003e\",\"ids\":[\"Electricity\",\"Nuclear\",\"Hydro\",\"Total Combustible Fuels\",\"Coal, Peat and Manufactured Gases\",\"Oil and Petroleum Products\",\"Natural Gas\",\"Combustible Renewables\",\"Other Combustible Non-Renewables\",\"Geothermal\",\"Solar\",\"Not Specified\",\"Total Renewables (Hydro, Geo, Solar, Wind, Other)\",\"Wind\",\"Other Renewables\"],\"labels\":[\"Electricity\",\"Nuclear\",\"Hydro\",\"Total Combustible Fuels\",\"Coal, Peat and Manufactured Gases\",\"Oil and Petroleum Products\",\"Natural Gas\",\"Combustible Renewables\",\"Other Combustible Non-Renewables\",\"Geothermal\",\"Solar\",\"Not Specified\",\"Total Renewables (Hydro, Geo, Solar, Wind, Other)\",\"Wind\",\"Other Renewables\"],\"name\":\"\",\"parents\":[\"\",\"\",\"\",\"\",\"\",\"\",\"\",\"\",\"\",\"\",\"\",\"\",\"\",\"\",\"\"],\"values\":{\"dtype\":\"f8\",\"bdata\":\"H4XrSK+ndUERx7roJahPQeviNrq+kDZBO3DO0pskakFoImzEIkNQQfW52gpoiAZBP1db8UYIYUGe76dGYTARQUMc6+LUHudAx7q4jRTD9EDx9ErpNhkwQb4wmSqYRd1AtFn1BTN3U0FF2PBsRs1AQQAAAAAAAAAA\"},\"type\":\"sunburst\"}],                        {\"template\":{\"data\":{\"histogram2dcontour\":[{\"type\":\"histogram2dcontour\",\"colorbar\":{\"outlinewidth\":0,\"ticks\":\"\"},\"colorscale\":[[0.0,\"#0d0887\"],[0.1111111111111111,\"#46039f\"],[0.2222222222222222,\"#7201a8\"],[0.3333333333333333,\"#9c179e\"],[0.4444444444444444,\"#bd3786\"],[0.5555555555555556,\"#d8576b\"],[0.6666666666666666,\"#ed7953\"],[0.7777777777777778,\"#fb9f3a\"],[0.8888888888888888,\"#fdca26\"],[1.0,\"#f0f921\"]]}],\"choropleth\":[{\"type\":\"choropleth\",\"colorbar\":{\"outlinewidth\":0,\"ticks\":\"\"}}],\"histogram2d\":[{\"type\":\"histogram2d\",\"colorbar\":{\"outlinewidth\":0,\"ticks\":\"\"},\"colorscale\":[[0.0,\"#0d0887\"],[0.1111111111111111,\"#46039f\"],[0.2222222222222222,\"#7201a8\"],[0.3333333333333333,\"#9c179e\"],[0.4444444444444444,\"#bd3786\"],[0.5555555555555556,\"#d8576b\"],[0.6666666666666666,\"#ed7953\"],[0.7777777777777778,\"#fb9f3a\"],[0.8888888888888888,\"#fdca26\"],[1.0,\"#f0f921\"]]}],\"heatmap\":[{\"type\":\"heatmap\",\"colorbar\":{\"outlinewidth\":0,\"ticks\":\"\"},\"colorscale\":[[0.0,\"#0d0887\"],[0.1111111111111111,\"#46039f\"],[0.2222222222222222,\"#7201a8\"],[0.3333333333333333,\"#9c179e\"],[0.4444444444444444,\"#bd3786\"],[0.5555555555555556,\"#d8576b\"],[0.6666666666666666,\"#ed7953\"],[0.7777777777777778,\"#fb9f3a\"],[0.8888888888888888,\"#fdca26\"],[1.0,\"#f0f921\"]]}],\"contourcarpet\":[{\"type\":\"contourcarpet\",\"colorbar\":{\"outlinewidth\":0,\"ticks\":\"\"}}],\"contour\":[{\"type\":\"contour\",\"colorbar\":{\"outlinewidth\":0,\"ticks\":\"\"},\"colorscale\":[[0.0,\"#0d0887\"],[0.1111111111111111,\"#46039f\"],[0.2222222222222222,\"#7201a8\"],[0.3333333333333333,\"#9c179e\"],[0.4444444444444444,\"#bd3786\"],[0.5555555555555556,\"#d8576b\"],[0.6666666666666666,\"#ed7953\"],[0.7777777777777778,\"#fb9f3a\"],[0.8888888888888888,\"#fdca26\"],[1.0,\"#f0f921\"]]}],\"surface\":[{\"type\":\"surface\",\"colorbar\":{\"outlinewidth\":0,\"ticks\":\"\"},\"colorscale\":[[0.0,\"#0d0887\"],[0.1111111111111111,\"#46039f\"],[0.2222222222222222,\"#7201a8\"],[0.3333333333333333,\"#9c179e\"],[0.4444444444444444,\"#bd3786\"],[0.5555555555555556,\"#d8576b\"],[0.6666666666666666,\"#ed7953\"],[0.7777777777777778,\"#fb9f3a\"],[0.8888888888888888,\"#fdca26\"],[1.0,\"#f0f921\"]]}],\"mesh3d\":[{\"type\":\"mesh3d\",\"colorbar\":{\"outlinewidth\":0,\"ticks\":\"\"}}],\"scatter\":[{\"fillpattern\":{\"fillmode\":\"overlay\",\"size\":10,\"solidity\":0.2},\"type\":\"scatter\"}],\"parcoords\":[{\"type\":\"parcoords\",\"line\":{\"colorbar\":{\"outlinewidth\":0,\"ticks\":\"\"}}}],\"scatterpolargl\":[{\"type\":\"scatterpolargl\",\"marker\":{\"colorbar\":{\"outlinewidth\":0,\"ticks\":\"\"}}}],\"bar\":[{\"error_x\":{\"color\":\"#2a3f5f\"},\"error_y\":{\"color\":\"#2a3f5f\"},\"marker\":{\"line\":{\"color\":\"#E5ECF6\",\"width\":0.5},\"pattern\":{\"fillmode\":\"overlay\",\"size\":10,\"solidity\":0.2}},\"type\":\"bar\"}],\"scattergeo\":[{\"type\":\"scattergeo\",\"marker\":{\"colorbar\":{\"outlinewidth\":0,\"ticks\":\"\"}}}],\"scatterpolar\":[{\"type\":\"scatterpolar\",\"marker\":{\"colorbar\":{\"outlinewidth\":0,\"ticks\":\"\"}}}],\"histogram\":[{\"marker\":{\"pattern\":{\"fillmode\":\"overlay\",\"size\":10,\"solidity\":0.2}},\"type\":\"histogram\"}],\"scattergl\":[{\"type\":\"scattergl\",\"marker\":{\"colorbar\":{\"outlinewidth\":0,\"ticks\":\"\"}}}],\"scatter3d\":[{\"type\":\"scatter3d\",\"line\":{\"colorbar\":{\"outlinewidth\":0,\"ticks\":\"\"}},\"marker\":{\"colorbar\":{\"outlinewidth\":0,\"ticks\":\"\"}}}],\"scattermap\":[{\"type\":\"scattermap\",\"marker\":{\"colorbar\":{\"outlinewidth\":0,\"ticks\":\"\"}}}],\"scattermapbox\":[{\"type\":\"scattermapbox\",\"marker\":{\"colorbar\":{\"outlinewidth\":0,\"ticks\":\"\"}}}],\"scatterternary\":[{\"type\":\"scatterternary\",\"marker\":{\"colorbar\":{\"outlinewidth\":0,\"ticks\":\"\"}}}],\"scattercarpet\":[{\"type\":\"scattercarpet\",\"marker\":{\"colorbar\":{\"outlinewidth\":0,\"ticks\":\"\"}}}],\"carpet\":[{\"aaxis\":{\"endlinecolor\":\"#2a3f5f\",\"gridcolor\":\"white\",\"linecolor\":\"white\",\"minorgridcolor\":\"white\",\"startlinecolor\":\"#2a3f5f\"},\"baxis\":{\"endlinecolor\":\"#2a3f5f\",\"gridcolor\":\"white\",\"linecolor\":\"white\",\"minorgridcolor\":\"white\",\"startlinecolor\":\"#2a3f5f\"},\"type\":\"carpet\"}],\"table\":[{\"cells\":{\"fill\":{\"color\":\"#EBF0F8\"},\"line\":{\"color\":\"white\"}},\"header\":{\"fill\":{\"color\":\"#C8D4E3\"},\"line\":{\"color\":\"white\"}},\"type\":\"table\"}],\"barpolar\":[{\"marker\":{\"line\":{\"color\":\"#E5ECF6\",\"width\":0.5},\"pattern\":{\"fillmode\":\"overlay\",\"size\":10,\"solidity\":0.2}},\"type\":\"barpolar\"}],\"pie\":[{\"automargin\":true,\"type\":\"pie\"}]},\"layout\":{\"autotypenumbers\":\"strict\",\"colorway\":[\"#636efa\",\"#EF553B\",\"#00cc96\",\"#ab63fa\",\"#FFA15A\",\"#19d3f3\",\"#FF6692\",\"#B6E880\",\"#FF97FF\",\"#FECB52\"],\"font\":{\"color\":\"#2a3f5f\"},\"hovermode\":\"closest\",\"hoverlabel\":{\"align\":\"left\"},\"paper_bgcolor\":\"white\",\"plot_bgcolor\":\"#E5ECF6\",\"polar\":{\"bgcolor\":\"#E5ECF6\",\"angularaxis\":{\"gridcolor\":\"white\",\"linecolor\":\"white\",\"ticks\":\"\"},\"radialaxis\":{\"gridcolor\":\"white\",\"linecolor\":\"white\",\"ticks\":\"\"}},\"ternary\":{\"bgcolor\":\"#E5ECF6\",\"aaxis\":{\"gridcolor\":\"white\",\"linecolor\":\"white\",\"ticks\":\"\"},\"baxis\":{\"gridcolor\":\"white\",\"linecolor\":\"white\",\"ticks\":\"\"},\"caxis\":{\"gridcolor\":\"white\",\"linecolor\":\"white\",\"ticks\":\"\"}},\"coloraxis\":{\"colorbar\":{\"outlinewidth\":0,\"ticks\":\"\"}},\"colorscale\":{\"sequential\":[[0.0,\"#0d0887\"],[0.1111111111111111,\"#46039f\"],[0.2222222222222222,\"#7201a8\"],[0.3333333333333333,\"#9c179e\"],[0.4444444444444444,\"#bd3786\"],[0.5555555555555556,\"#d8576b\"],[0.6666666666666666,\"#ed7953\"],[0.7777777777777778,\"#fb9f3a\"],[0.8888888888888888,\"#fdca26\"],[1.0,\"#f0f921\"]],\"sequentialminus\":[[0.0,\"#0d0887\"],[0.1111111111111111,\"#46039f\"],[0.2222222222222222,\"#7201a8\"],[0.3333333333333333,\"#9c179e\"],[0.4444444444444444,\"#bd3786\"],[0.5555555555555556,\"#d8576b\"],[0.6666666666666666,\"#ed7953\"],[0.7777777777777778,\"#fb9f3a\"],[0.8888888888888888,\"#fdca26\"],[1.0,\"#f0f921\"]],\"diverging\":[[0,\"#8e0152\"],[0.1,\"#c51b7d\"],[0.2,\"#de77ae\"],[0.3,\"#f1b6da\"],[0.4,\"#fde0ef\"],[0.5,\"#f7f7f7\"],[0.6,\"#e6f5d0\"],[0.7,\"#b8e186\"],[0.8,\"#7fbc41\"],[0.9,\"#4d9221\"],[1,\"#276419\"]]},\"xaxis\":{\"gridcolor\":\"white\",\"linecolor\":\"white\",\"ticks\":\"\",\"title\":{\"standoff\":15},\"zerolinecolor\":\"white\",\"automargin\":true,\"zerolinewidth\":2},\"yaxis\":{\"gridcolor\":\"white\",\"linecolor\":\"white\",\"ticks\":\"\",\"title\":{\"standoff\":15},\"zerolinecolor\":\"white\",\"automargin\":true,\"zerolinewidth\":2},\"scene\":{\"xaxis\":{\"backgroundcolor\":\"#E5ECF6\",\"gridcolor\":\"white\",\"linecolor\":\"white\",\"showbackground\":true,\"ticks\":\"\",\"zerolinecolor\":\"white\",\"gridwidth\":2},\"yaxis\":{\"backgroundcolor\":\"#E5ECF6\",\"gridcolor\":\"white\",\"linecolor\":\"white\",\"showbackground\":true,\"ticks\":\"\",\"zerolinecolor\":\"white\",\"gridwidth\":2},\"zaxis\":{\"backgroundcolor\":\"#E5ECF6\",\"gridcolor\":\"white\",\"linecolor\":\"white\",\"showbackground\":true,\"ticks\":\"\",\"zerolinecolor\":\"white\",\"gridwidth\":2}},\"shapedefaults\":{\"line\":{\"color\":\"#2a3f5f\"}},\"annotationdefaults\":{\"arrowcolor\":\"#2a3f5f\",\"arrowhead\":0,\"arrowwidth\":1},\"geo\":{\"bgcolor\":\"white\",\"landcolor\":\"#E5ECF6\",\"subunitcolor\":\"white\",\"showland\":true,\"showlakes\":true,\"lakecolor\":\"white\"},\"title\":{\"x\":0.05},\"mapbox\":{\"style\":\"light\"}}},\"legend\":{\"tracegroupgap\":0},\"margin\":{\"t\":60}},                        {\"responsive\": true}                    )                };            </script>        </div>"
      ],
      "text/plain": [
       "Figure({\n",
       "    'data': [{'branchvalues': 'total',\n",
       "              'domain': {'x': [0.0, 1.0], 'y': [0.0, 1.0]},\n",
       "              'hovertemplate': 'labels=%{label}<br>Value=%{value}<br>parent=%{parent}<br>id=%{id}<extra></extra>',\n",
       "              'ids': array(['Electricity', 'Nuclear', 'Hydro', 'Total Combustible Fuels',\n",
       "                            'Coal, Peat and Manufactured Gases', 'Oil and Petroleum Products',\n",
       "                            'Natural Gas', 'Combustible Renewables',\n",
       "                            'Other Combustible Non-Renewables', 'Geothermal', 'Solar',\n",
       "                            'Not Specified', 'Total Renewables (Hydro, Geo, Solar, Wind, Other)',\n",
       "                            'Wind', 'Other Renewables'], dtype=object),\n",
       "              'labels': array(['Electricity', 'Nuclear', 'Hydro', 'Total Combustible Fuels',\n",
       "                               'Coal, Peat and Manufactured Gases', 'Oil and Petroleum Products',\n",
       "                               'Natural Gas', 'Combustible Renewables',\n",
       "                               'Other Combustible Non-Renewables', 'Geothermal', 'Solar',\n",
       "                               'Not Specified', 'Total Renewables (Hydro, Geo, Solar, Wind, Other)',\n",
       "                               'Wind', 'Other Renewables'], dtype=object),\n",
       "              'name': '',\n",
       "              'parents': array(['', '', '', '', '', '', '', '', '', '', '', '', '', '', ''],\n",
       "                               dtype=object),\n",
       "              'type': 'sunburst',\n",
       "              'values': {'bdata': ('H4XrSK+ndUERx7roJahPQeviNrq+kD' ... 'n1BTN3U0FF2PBsRs1AQQAAAAAAAAAA'),\n",
       "                         'dtype': 'f8'}}],\n",
       "    'layout': {'legend': {'tracegroupgap': 0}, 'margin': {'t': 60}, 'template': '...'}\n",
       "})"
      ]
     },
     "execution_count": 12,
     "metadata": {},
     "output_type": "execute_result"
    }
   ],
   "source": [
    "px.sunburst(data_frame=df_us, path=['Product'], values='Value')"
   ]
  }
 ],
 "metadata": {
  "kernelspec": {
   "display_name": ".venv",
   "language": "python",
   "name": "python3"
  },
  "language_info": {
   "codemirror_mode": {
    "name": "ipython",
    "version": 3
   },
   "file_extension": ".py",
   "mimetype": "text/x-python",
   "name": "python",
   "nbconvert_exporter": "python",
   "pygments_lexer": "ipython3",
   "version": "3.12.5"
  }
 },
 "nbformat": 4,
 "nbformat_minor": 5
}
